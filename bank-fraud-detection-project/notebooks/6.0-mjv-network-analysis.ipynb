{
 "cells": [
  {
   "cell_type": "markdown",
   "id": "a1b2c3d4",
   "metadata": {},
   "source": [
    "# 6.0 - Network Analysis of Fraudulent Transactions\n",
    "\n",
    "_by Michael Joshua Vargas_"
   ]
  },
  {
   "cell_type": "markdown",
   "id": "e5f6g7h8",
   "metadata": {},
   "source": [
    "This notebook focuses on visualizing and analyzing the flow of funds as a network to uncover relationships and potential fraud rings that are not visible from feature-based models alone. We will:\n",
    "1.  **Prepare Data**: Load transaction and fraud label data.\n",
    "2.  **Construct Network**: Build a directed graph of transactions involving fraudulent accounts.\n",
    "3.  **Explore and Visualize**: Analyze the network's structure and identify key actors.\n",
    "4.  **Detect Communities**: Use algorithms to find hidden clusters of coordinated activity."
   ]
  },
  {
   "cell_type": "markdown",
   "id": "i9j0k1l2",
   "metadata": {},
   "source": [
    "## 1. Setup and Data Loading"
   ]
  },
  {
   "cell_type": "code",
   "execution_count": null,
   "id": "m3n4o5p6",
   "metadata": {},
   "outputs": [],
   "source": [
    "# --- Core Libraries ---",
    "import pandas as pd\n",
    "import numpy as np\n",
    "import os\n",
    "import sys\n",
    "from pathlib import Path\n",
    "\n",
    "# --- Network Analysis ---",
    "import networkx as nx\n",
    "from pyvis.network import Network\n",
    "\n",
    "# --- Visualization ---",
    "import matplotlib.pyplot as plt\n",
    "import seaborn as sns\n",
    "\n",
    "# --- Path Setup ---",
    "notebook_dir = Path(os.getcwd())\n",
    "project_root = notebook_dir.parent\n",
    "if str(project_root) not in sys.path:\n",
    "    sys.path.insert(0, str(project_root))\n",
    "\n",
    "from bank_fraud.config import PROCESSED_DATA_DIR, RAW_DATA_DIR, REPORTS_DIR"
   ]
  },
  {
   "cell_type": "markdown",
   "id": "q7r8s9t0",
   "metadata": {},
   "source": [
    "### 1.1. Load Datasets"
   ]
  },
  {
   "cell_type": "code",
   "execution_count": null,
   "id": "u1v2w3x4",
   "metadata": {},
   "outputs": [],
   "source": [
    "# Load the processed data to get fraud labels\n",
    "PROCESSED_DATA_PATH = PROCESSED_DATA_DIR / '3.0_selected_features.parquet'\n",
    "df_labels = pd.read_parquet(PROCESSED_DATA_PATH)\n",
    "print(f\"Labels dataset loaded successfully. Shape: {df_labels.shape}\")\n",
    "\n",
    "# --- PLACEHOLDER: Load Raw Transaction Data ---",
    "# You will need to provide the path to your raw transaction data file.\n",
    "# This file should contain columns like 'source_account', 'destination_account', and 'amount'.\n",
    "# RAW_TRANSACTIONS_PATH = RAW_DATA_DIR / 'your_transaction_file.parquet' \n",
    "# df_transactions = pd.read_parquet(RAW_TRANSACTIONS_PATH)\n",
    "# print(f\"Raw transactions loaded successfully. Shape: {df_transactions.shape}\")"
   ]
  }
 ],
 "metadata": {
  "kernelspec": {
   "display_name": "Python 3 (ipykernel)",
   "language": "python",
   "name": "python3"
  },
  "language_info": {
   "codemirror_mode": {
    "name": "ipython",
    "version": 3
   },
   "file_extension": ".py",
   "mimetype": "text/x-python",
   "name": "python",
   "nbconvert_exporter": "python",
   "pygments_lexer": "ipython3",
   "version": "3.11.5"
  }
 },
 "nbformat": 4,
 "nbformat_minor": 5
}